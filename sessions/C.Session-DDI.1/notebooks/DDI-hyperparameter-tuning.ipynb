{
 "cells": [
  {
   "cell_type": "code",
   "execution_count": 9,
   "metadata": {},
   "outputs": [],
   "source": [
    "from tqdm import tqdm\n",
    "from os import listdir\n",
    "import pandas as pd\n",
    "from xml.dom.minidom import parse\n",
    "from nltk.corpus import stopwords\n",
    "from sklearn.feature_extraction.text import CountVectorizer\n",
    "from sklearn.ensemble import RandomForestClassifier\n",
    "import numpy as np\n",
    "from sklearn.ensemble import VotingClassifier\n",
    "from sklearn.neural_network import MLPClassifier\n",
    "from sklearn.preprocessing import LabelBinarizer\n",
    "from keras.preprocessing.text import Tokenizer\n",
    "from keras.preprocessing.sequence import pad_sequences\n",
    "from sklearn.model_selection import train_test_split\n",
    "from utils import get_entity_dict, smaller_subtree_containing_the_drugs, preprocess\n",
    "from sklearn.metrics import accuracy_score, f1_score, precision_score, recall_score, classification_report, confusion_matrix\n",
    "from sklearn.model_selection import GridSearchCV\n",
    "stopwords = set(stopwords.words('english'))\n",
    "\n",
    "output_path_name = \"task9.2_cascade_rf_rf_99.txt\"\n",
    "\n",
    "output_path = \"evaluations/\" + output_path_name\n",
    "results_path = output_path.replace('.txt', '_All_scores.log')\n",
    "datadir = '../../data/Test-DDI/DrugBank'\n",
    "training_data = '/home/raquel/Documents/mai/ahlt/data/Train/All'\n",
    "train_df_path = '../../../data/DF/train.csv'\n",
    "processed_train_df_path = '../../../data/DF/train_processed.csv'\n",
    "\n",
    "encoder = LabelBinarizer()\n",
    "tokenizer = Tokenizer()\n",
    "vectorizer = CountVectorizer()\n",
    "\n",
    "import warnings\n",
    "warnings.filterwarnings('ignore')"
   ]
  },
  {
   "cell_type": "code",
   "execution_count": 2,
   "metadata": {},
   "outputs": [
    {
     "name": "stdout",
     "output_type": "stream",
     "text": [
      "loaded preprocessed data\n"
     ]
    }
   ],
   "source": [
    "# train_df = pd.read_csv(train_df_path, index_col=0)\n",
    "train_df = pd.read_csv(train_df_path, index_col=0)\n",
    "\n",
    "sentences, dictionary, y_train_encoded = preprocess(train_df, processed_train_df_path, encoder)\n",
    "y = train_df['relation_type'].values\n",
    "\n",
    "\n",
    "\n",
    "y_binary = ['none' if i == 'none' else 'interaction'for i in y]\n",
    "\n",
    "sentences_train, sentences_test, y_train, y_test = train_test_split(sentences, y, test_size=0.25, random_state=1000,stratify=y)\n",
    "\n",
    "def vectorize_data(sentences_train,sentences_test):  \n",
    "\n",
    "    vectorizer.fit(sentences_train)\n",
    "    \n",
    "    X_train = vectorizer.transform(sentences_train)\n",
    "    X_test =  vectorizer.transform(sentences_test)\n",
    "    \n",
    "    return X_train, X_test\n",
    "\n",
    "X_train, X_test = vectorize_data(sentences_train,sentences_test)"
   ]
  },
  {
   "cell_type": "code",
   "execution_count": 3,
   "metadata": {},
   "outputs": [],
   "source": [
    "def classify(model):\n",
    "    model.fit(X_train, y_train)\n",
    "    y_pred = model.predict(X_test)\n",
    "\n",
    "    print(f1_score(y_test, y_pred, average=None))\n",
    "    print(precision_score(y_test, y_pred, average=\"macro\"))\n",
    "    print(recall_score(y_test, y_pred, average=\"macro\"))    \n",
    "\n",
    "from sklearn.linear_model import LogisticRegression\n",
    "\n",
    "    \n",
    "def classify_dense(model=LogisticRegression()):\n",
    "    model.fit(X_train.toarray(), y_train)\n",
    "    y_pred = model.predict(X_test.toarray())\n",
    "\n",
    "    print(f1_score(y_test, y_pred, average=None))\n",
    "    print(precision_score(y_test, y_pred, average=\"macro\"))\n",
    "    print(recall_score(y_test, y_pred, average=\"macro\"))    "
   ]
  },
  {
   "cell_type": "code",
   "execution_count": 4,
   "metadata": {},
   "outputs": [
    {
     "name": "stdout",
     "output_type": "stream",
     "text": [
      "[0.57281553 0.62331288 0.61176471 0.53037037 0.93559493]\n",
      "0.6711937115317246\n",
      "0.6415464702393192\n"
     ]
    }
   ],
   "source": [
    "rf = RandomForestClassifier(n_estimators=100,n_jobs=-1,criterion= 'gini', max_depth= 60,\n",
    "                             class_weight='balanced')\n",
    "\n",
    "classify(rf)"
   ]
  },
  {
   "cell_type": "code",
   "execution_count": 5,
   "metadata": {},
   "outputs": [
    {
     "name": "stdout",
     "output_type": "stream",
     "text": [
      "[0.56296296 0.62135922 0.60465116 0.5280236  0.93489036]\n",
      "0.6648543543489074\n",
      "0.6383752711319601\n"
     ]
    }
   ],
   "source": [
    "lr = LogisticRegression(class_weight='balanced')\n",
    "classify(rf)"
   ]
  },
  {
   "cell_type": "code",
   "execution_count": 6,
   "metadata": {},
   "outputs": [
    {
     "name": "stdout",
     "output_type": "stream",
     "text": [
      "[0.55585831 0.62290862 0.58666667 0.51929825 0.94209961]\n",
      "0.7285644735817022\n",
      "0.5889583313903344\n"
     ]
    }
   ],
   "source": [
    "mlp = MLPClassifier(activation='tanh', alpha= 0.1, hidden_layer_sizes=(30, 5), learning_rate='constant')\n",
    "classify(mlp)"
   ]
  },
  {
   "cell_type": "code",
   "execution_count": null,
   "metadata": {},
   "outputs": [],
   "source": [
    "X_train"
   ]
  },
  {
   "cell_type": "code",
   "execution_count": null,
   "metadata": {},
   "outputs": [],
   "source": []
  },
  {
   "cell_type": "code",
   "execution_count": 7,
   "metadata": {},
   "outputs": [],
   "source": [
    "def tune_model(model, param_grid,model_name='model_hp'):\n",
    "    clf = GridSearchCV(model, param_grid, cv=3,\n",
    "                       scoring='f1_macro')\n",
    "    clf.fit(X_train, y_train)\n",
    "    with open(model_name,'w') as f:\n",
    "        f.write(\"Best parameters set found on development set:\\n\")\n",
    "        print(\"Best parameters set found on development set:\")\n",
    "        print()\n",
    "        f.write(str(clf.best_params_))\n",
    "        print(clf.best_params_)\n",
    "        f.write(\"\\nDetailed classification report:\\n\")\n",
    "\n",
    "        print(\"Detailed classification report:\")\n",
    "        y_true, y_pred = y_test, clf.predict(X_test)\n",
    "        f.write(str(classification_report(y_true, y_pred)))\n",
    "        print(classification_report(y_true, y_pred))"
   ]
  },
  {
   "cell_type": "markdown",
   "metadata": {},
   "source": [
    "### binary"
   ]
  },
  {
   "cell_type": "code",
   "execution_count": null,
   "metadata": {},
   "outputs": [],
   "source": [
    "rf_param_grid = [\n",
    "  {'max_depth': [None,15,20, 30, 60, 90, 120], 'criterion': ['gini','entropy'],'min_samples_leaf':[1,5,15] }\n",
    " ]\n",
    "\n",
    "rf = RandomForestClassifier(n_estimators=500,n_jobs=-1,\n",
    "                             class_weight='balanced')\n",
    "\n",
    "\n",
    "tune_model(rf,rf_param_grid,'hyperparams/rf_best.txt')"
   ]
  },
  {
   "cell_type": "markdown",
   "metadata": {},
   "source": [
    "# Default"
   ]
  },
  {
   "cell_type": "code",
   "execution_count": 11,
   "metadata": {},
   "outputs": [
    {
     "name": "stdout",
     "output_type": "stream",
     "text": [
      "Best parameters set found on development set:\n",
      "\n",
      "{'criterion': 'gini', 'max_depth': 60}\n",
      "Detailed classification report:\n",
      "              precision    recall  f1-score   support\n",
      "\n",
      "      advise       0.55      0.51      0.53       206\n",
      "      effect       0.58      0.59      0.59       422\n",
      "         int       0.67      0.51      0.58        47\n",
      "   mechanism       0.43      0.51      0.47       330\n",
      "        none       0.93      0.92      0.93      5943\n",
      "\n",
      "    accuracy                           0.87      6948\n",
      "   macro avg       0.63      0.61      0.62      6948\n",
      "weighted avg       0.87      0.87      0.87      6948\n",
      "\n"
     ]
    }
   ],
   "source": [
    "rf_param_grid = [\n",
    "  {'max_depth': [None, 30, 60, 90, 120], 'criterion': ['gini','entropy'], }\n",
    " ]\n",
    "\n",
    "rf = RandomForestClassifier(n_estimators=5,n_jobs=-1,\n",
    "                             class_weight='balanced')\n",
    "\n",
    "tune_model(rf,rf_param_grid,'hyper_rf.txt')\n"
   ]
  },
  {
   "cell_type": "code",
   "execution_count": null,
   "metadata": {},
   "outputs": [],
   "source": [
    "mlp_param_grid = [\n",
    "    {'hidden_layer_sizes': [(15,5), (30,5),(10,10,5), (20,20,5)],\n",
    "     'activation':['identity','logistic', 'tanh','relu'],\n",
    "     'alpha':[0.0001,0.001,0.01,0.1],\n",
    "     'learning_rate':['constant','adaptive']\n",
    "    }\n",
    "]\n",
    "mlp = MLPClassifier()\n",
    "tune_model(mlp, mlp_param_grid,'hyper_mlp.txt')"
   ]
  }
 ],
 "metadata": {
  "kernelspec": {
   "display_name": "Python 3",
   "language": "python",
   "name": "python3"
  },
  "language_info": {
   "codemirror_mode": {
    "name": "ipython",
    "version": 3
   },
   "file_extension": ".py",
   "mimetype": "text/x-python",
   "name": "python",
   "nbconvert_exporter": "python",
   "pygments_lexer": "ipython3",
   "version": "3.6.5"
  },
  "toc": {
   "base_numbering": 1,
   "nav_menu": {},
   "number_sections": true,
   "sideBar": true,
   "skip_h1_title": false,
   "title_cell": "Table of Contents",
   "title_sidebar": "Contents",
   "toc_cell": false,
   "toc_position": {},
   "toc_section_display": true,
   "toc_window_display": false
  }
 },
 "nbformat": 4,
 "nbformat_minor": 2
}
