{
 "cells": [
  {
   "cell_type": "code",
   "execution_count": 4,
   "metadata": {},
   "outputs": [],
   "source": [
    "from os import listdir\n",
    "import pandas as pd\n",
    "from sklearn.feature_extraction.text import CountVectorizer\n",
    "from sklearn.ensemble import RandomForestClassifier\n",
    "from sklearn.model_selection import train_test_split\n",
    "from sklearn.model_selection import GridSearchCV\n",
    "from sklearn.neural_network import MLPClassifier\n",
    "\n",
    "from sklearn.ensemble import VotingClassifier\n",
    "\n",
    "\n",
    "import numpy as np\n",
    "\n",
    "from sklearn.datasets import make_classification\n",
    "\n",
    "from sklearn.metrics import accuracy_score, f1_score, precision_score, recall_score, classification_report, confusion_matrix\n",
    "\n",
    "\n",
    "\n",
    "output_path_name = \"task9.2_raquel_60.txt\"\n",
    "\n",
    "output_path = \"evaluations/\" + output_path_name\n",
    "results_path = output_path.replace('.txt', '_All_scores.log')\n",
    "datadir = '../../data/Test-DDI/DrugBank'\n",
    "training_data = '/home/raquel/Documents/mai/ahlt/data/Train/All'\n",
    "train_df_path = '/home/raquel/Documents/mai/ahlt/data/DF/train.csv'\n",
    "\n",
    "import warnings\n",
    "warnings.filterwarnings('ignore')"
   ]
  },
  {
   "cell_type": "code",
   "execution_count": 5,
   "metadata": {},
   "outputs": [],
   "source": [
    "train_df = pd.read_csv(train_df_path, index_col=0)\n",
    "\n",
    "sentences = train_df.sentence_text.values\n",
    "y = train_df['relation_type'].values\n",
    "\n",
    "sentences_train, sentences_test, y_train, y_test = train_test_split(sentences, y, test_size=0.25, random_state=1000,stratify=y)\n",
    "\n",
    "\n",
    "def vectorize_data(sentences_train,sentences_test):  \n",
    "    \n",
    "    vectorizer = CountVectorizer()\n",
    "    vectorizer.fit(sentences_train)\n",
    "    \n",
    "    X_train = vectorizer.transform(sentences_train)\n",
    "    X_test =  vectorizer.transform(sentences_test)\n",
    "    \n",
    "    return X_train, X_test\n",
    "\n",
    "X_train, X_test = vectorize_data(sentences_train,sentences_test)"
   ]
  },
  {
   "cell_type": "code",
   "execution_count": 6,
   "metadata": {},
   "outputs": [
    {
     "name": "stdout",
     "output_type": "stream",
     "text": [
      "              precision    recall  f1-score   support\n",
      "\n",
      "      advise       0.29      0.49      0.37       206\n",
      "      effect       0.35      0.51      0.41       422\n",
      "         int       0.18      0.43      0.25        47\n",
      "   mechanism       0.26      0.27      0.26       330\n",
      "        none       0.90      0.84      0.87      5943\n",
      "\n",
      "   micro avg       0.78      0.78      0.78      6948\n",
      "   macro avg       0.40      0.51      0.43      6948\n",
      "weighted avg       0.81      0.78      0.79      6948\n",
      "\n"
     ]
    }
   ],
   "source": [
    "rf = RandomForestClassifier(n_estimators=1000, max_depth=60, n_jobs=-1,\n",
    "                                class_weight='balanced', random_state=0)\n",
    "\n",
    "mlp = MLPClassifier(activation='tanh', alpha= 0.1, hidden_layer_sizes=(30, 5), learning_rate='constant')\n",
    "\n",
    "classifier = VotingClassifier(estimators=[('Random Forest', rf), ('MLP', mlp)],\n",
    "                            voting='soft')\n",
    "\n",
    "classifier.fit(X_train, y_train)\n",
    "\n",
    "y_true, y_pred = y_test, classifier.predict(X_test)\n",
    "\n",
    "print(classification_report(y_true, y_pred))"
   ]
  }
 ],
 "metadata": {
  "kernelspec": {
   "display_name": "ahlt",
   "language": "python",
   "name": "ahlt"
  },
  "language_info": {
   "codemirror_mode": {
    "name": "ipython",
    "version": 3
   },
   "file_extension": ".py",
   "mimetype": "text/x-python",
   "name": "python",
   "nbconvert_exporter": "python",
   "pygments_lexer": "ipython3",
   "version": "3.6.7"
  }
 },
 "nbformat": 4,
 "nbformat_minor": 2
}
