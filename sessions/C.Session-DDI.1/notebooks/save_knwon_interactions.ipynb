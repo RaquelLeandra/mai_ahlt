{
 "cells": [
  {
   "cell_type": "code",
   "execution_count": 21,
   "metadata": {
    "scrolled": true
   },
   "outputs": [
    {
     "data": {
      "text/plain": [
       "1228     Therefore, the potential exists for a drug int...\n",
       "1229     Therefore, the potential exists for a drug int...\n",
       "1566      Interaction of ketamine and halothane in rats.\\n\n",
       "2084     Etonogestrel may interact with the following m...\n",
       "2085     Etonogestrel may interact with the following m...\n",
       "2086     Etonogestrel may interact with the following m...\n",
       "2087     Etonogestrel may interact with the following m...\n",
       "2088     Etonogestrel may interact with the following m...\n",
       "2089     Etonogestrel may interact with the following m...\n",
       "2090     Etonogestrel may interact with the following m...\n",
       "2091     Etonogestrel may interact with the following m...\n",
       "2092     Etonogestrel may interact with the following m...\n",
       "2093     Etonogestrel may interact with the following m...\n",
       "2094     Etonogestrel may interact with the following m...\n",
       "2095     Etonogestrel may interact with the following m...\n",
       "2096     Etonogestrel may interact with the following m...\n",
       "2097     Etonogestrel may interact with the following m...\n",
       "2098     Etonogestrel may interact with the following m...\n",
       "2099     Etonogestrel may interact with the following m...\n",
       "2100     Etonogestrel may interact with the following m...\n",
       "2101     Etonogestrel may interact with the following m...\n",
       "2102     Etonogestrel may interact with the following m...\n",
       "2103     Etonogestrel may interact with the following m...\n",
       "2104     Etonogestrel may interact with the following m...\n",
       "2105     Etonogestrel may interact with the following m...\n",
       "2106     Etonogestrel may interact with the following m...\n",
       "2107     Etonogestrel may interact with the following m...\n",
       "2108     Etonogestrel may interact with the following m...\n",
       "2109     Etonogestrel may interact with the following m...\n",
       "2110     Etonogestrel may interact with the following m...\n",
       "                               ...                        \n",
       "22107    In vitro interaction of prostaglandin F2alpha ...\n",
       "22154    There have been reports of interactions of ery...\n",
       "22155    There have been reports of interactions of ery...\n",
       "22156    There have been reports of interactions of ery...\n",
       "22157    There have been reports of interactions of ery...\n",
       "22158    There have been reports of interactions of ery...\n",
       "22159    There have been reports of interactions of ery...\n",
       "22160    There have been reports of interactions of ery...\n",
       "22161    There have been reports of interactions of ery...\n",
       "22162    There have been reports of interactions of ery...\n",
       "22163    There have been reports of interactions of ery...\n",
       "22164    There have been reports of interactions of ery...\n",
       "22165    There have been reports of interactions of ery...\n",
       "22166    There have been reports of interactions of ery...\n",
       "22551    A pharmacokinetic interaction between diltiaze...\n",
       "23262    Beta-adrenergic blocking agents may also inter...\n",
       "23327    Diphenoxylate HCl and atropine sulfate may int...\n",
       "23329    Diphenoxylate HCl and atropine sulfate may int...\n",
       "24093    A possible interaction between glyburide and c...\n",
       "24710    Treatment with antidepressant drugs can direct...\n",
       "25740    The extent to which SSRI-TCA interactions may ...\n",
       "26274    Therefore, linezolid has the potential for int...\n",
       "26275    Therefore, linezolid has the potential for int...\n",
       "26306    Interaction of clindamycin and gentamicin in v...\n",
       "27179    Interactions may occur between EPA supplements...\n",
       "27180    Interactions may occur between EPA supplements...\n",
       "27181    Interactions may occur between EPA supplements...\n",
       "27182    Interactions may occur between EPA supplements...\n",
       "27594    A two-way interaction between the hydantoin an...\n",
       "27595    A two-way interaction between the hydantoin an...\n",
       "Name: sentence_text, Length: 188, dtype: object"
      ]
     },
     "execution_count": 21,
     "metadata": {},
     "output_type": "execute_result"
    }
   ],
   "source": [
    "from os import listdir\n",
    "import pandas as pd\n",
    "from sklearn.feature_extraction.text import CountVectorizer\n",
    "from sklearn.ensemble import RandomForestClassifier\n",
    "from sklearn.model_selection import train_test_split\n",
    "from sklearn.model_selection import GridSearchCV\n",
    "from sklearn.neural_network import MLPClassifier\n",
    "\n",
    "import numpy as np\n",
    "\n",
    "from sklearn.datasets import make_classification\n",
    "\n",
    "from sklearn.metrics import accuracy_score, f1_score, precision_score, recall_score, classification_report, confusion_matrix\n",
    "\n",
    "\n",
    "\n",
    "output_path_name = \"task9.2_raquel_60.txt\"\n",
    "\n",
    "output_path = \"evaluations/\" + output_path_name\n",
    "results_path = output_path.replace('.txt', '_All_scores.log')\n",
    "datadir = '../../data/Test-DDI/DrugBank'\n",
    "training_data = '/home/raquel/Documents/mai/ahlt/data/Train/All'\n",
    "train_df_path = '/home/raquel/Documents/mai/ahlt/data/DF/train.csv'\n",
    "\n",
    "import warnings\n",
    "warnings.filterwarnings('ignore')\n",
    "\n",
    "train_df = pd.read_csv(train_df_path, index_col=0)\n",
    "train_df[train_df['relation_type'] == 'int'].sentence_text"
   ]
  },
  {
   "cell_type": "code",
   "execution_count": 11,
   "metadata": {},
   "outputs": [],
   "source": [
    "dictionary = {}\n",
    "for index, row in train_df.iterrows():\n",
    "    d_1 = row['id_e1']\n",
    "    d_2 = row['id_e2']\n",
    "    interaction = row['relation_type']\n",
    "    if interaction != 'none':\n",
    "        if d_1 not in dictionary:\n",
    "            dictionary[d_1] = {}\n",
    "        if d_2 not in dictionary:\n",
    "            dictionary[d_2] = {}\n",
    "        dictionary[d_1][d_2] = interaction\n",
    "        dictionary[d_2][d_1] = interaction\n",
    "#         print(row['e1'], row['e2'], row['relation_type'])"
   ]
  },
  {
   "cell_type": "code",
   "execution_count": 15,
   "metadata": {},
   "outputs": [
    {
     "data": {
      "text/plain": [
       "dict_keys(['DDI-DrugBank.d400.s0.e3'])"
      ]
     },
     "execution_count": 15,
     "metadata": {},
     "output_type": "execute_result"
    }
   ],
   "source": [
    "dictionary['DDI-DrugBank.d400.s0.e1'].keys()"
   ]
  },
  {
   "cell_type": "code",
   "execution_count": 17,
   "metadata": {},
   "outputs": [
    {
     "name": "stdout",
     "output_type": "stream",
     "text": [
      "advise\n"
     ]
    }
   ],
   "source": [
    "d1 = 'DDI-DrugBank.d400.s0.e1' \n",
    "d2 = 'DDI-DrugBank.d400.s0.e3'\n",
    "\n",
    "try:\n",
    "    print(dictionary[d1][d2])\n",
    "except KeyError:\n",
    "    pass"
   ]
  }
 ],
 "metadata": {
  "kernelspec": {
   "display_name": "ahlt",
   "language": "python",
   "name": "ahlt"
  },
  "language_info": {
   "codemirror_mode": {
    "name": "ipython",
    "version": 3
   },
   "file_extension": ".py",
   "mimetype": "text/x-python",
   "name": "python",
   "nbconvert_exporter": "python",
   "pygments_lexer": "ipython3",
   "version": "3.6.7"
  }
 },
 "nbformat": 4,
 "nbformat_minor": 2
}
