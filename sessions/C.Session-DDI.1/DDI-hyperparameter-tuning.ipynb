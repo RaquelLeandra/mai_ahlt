{
 "cells": [
  {
   "cell_type": "code",
   "execution_count": 26,
   "metadata": {},
   "outputs": [],
   "source": [
    "from os import listdir\n",
    "import pandas as pd\n",
    "from sklearn.feature_extraction.text import CountVectorizer\n",
    "from sklearn.ensemble import RandomForestClassifier\n",
    "from sklearn.model_selection import train_test_split\n",
    "from sklearn.model_selection import GridSearchCV\n",
    "from sklearn.neural_network import MLPClassifier\n",
    "\n",
    "import numpy as np\n",
    "\n",
    "from sklearn.datasets import make_classification\n",
    "\n",
    "from sklearn.metrics import accuracy_score, f1_score, precision_score, recall_score, classification_report, confusion_matrix\n",
    "\n",
    "\n",
    "\n",
    "output_path_name = \"task9.2_raquel_60.txt\"\n",
    "\n",
    "output_path = \"evaluations/\" + output_path_name\n",
    "results_path = output_path.replace('.txt', '_All_scores.log')\n",
    "datadir = '../../data/Test-DDI/DrugBank'\n",
    "training_data = '/home/raquel/Documents/mai/ahlt/data/Train/All'\n",
    "train_df_path = '/home/raquel/Documents/mai/ahlt/data/DF/train.csv'\n",
    "\n",
    "import warnings\n",
    "warnings.filterwarnings('ignore')"
   ]
  },
  {
   "cell_type": "code",
   "execution_count": 27,
   "metadata": {},
   "outputs": [],
   "source": [
    "train_df = pd.read_csv(train_df_path, index_col=0)\n",
    "\n",
    "sentences = train_df.sentence_text.values\n",
    "y = train_df['relation_type'].values\n",
    "\n",
    "sentences_train, sentences_test, y_train, y_test = train_test_split(sentences, y, test_size=0.25, random_state=1000,stratify=y)\n",
    "\n",
    "\n",
    "def vectorize_data(sentences_train,sentences_test):  \n",
    "    \n",
    "    vectorizer = CountVectorizer()\n",
    "    vectorizer.fit(sentences_train)\n",
    "    \n",
    "    X_train = vectorizer.transform(sentences_train)\n",
    "    X_test =  vectorizer.transform(sentences_test)\n",
    "    \n",
    "    return X_train, X_test\n",
    "\n",
    "X_train, X_test = vectorize_data(sentences_train,sentences_test)"
   ]
  },
  {
   "cell_type": "code",
   "execution_count": 28,
   "metadata": {},
   "outputs": [
    {
     "data": {
      "text/plain": [
       "<20843x5687 sparse matrix of type '<class 'numpy.int64'>'\n",
       "\twith 700216 stored elements in Compressed Sparse Row format>"
      ]
     },
     "execution_count": 28,
     "metadata": {},
     "output_type": "execute_result"
    }
   ],
   "source": [
    "X_train"
   ]
  },
  {
   "cell_type": "code",
   "execution_count": 29,
   "metadata": {},
   "outputs": [],
   "source": [
    "def tune_model(model, param_grid,model_name='model_hp'):\n",
    "    clf = GridSearchCV(model, param_grid, cv=3,\n",
    "                       scoring='f1_macro')\n",
    "    clf.fit(X_train, y_train)\n",
    "    with open(model_name,'w') as f:\n",
    "        f.write(\"Best parameters set found on development set:\\n\")\n",
    "        print(\"Best parameters set found on development set:\")\n",
    "        print()\n",
    "        f.write(str(clf.best_params_))\n",
    "        print(clf.best_params_)\n",
    "        f.write(\"\\nDetailed classification report:\\n\")\n",
    "\n",
    "        print(\"Detailed classification report:\")\n",
    "        y_true, y_pred = y_test, clf.predict(X_test)\n",
    "        f.write(str(classification_report(y_true, y_pred)))\n",
    "        print(classification_report(y_true, y_pred))"
   ]
  },
  {
   "cell_type": "code",
   "execution_count": 30,
   "metadata": {},
   "outputs": [
    {
     "name": "stdout",
     "output_type": "stream",
     "text": [
      "Best parameters set found on development set:\n",
      "\n",
      "{'criterion': 'gini', 'max_depth': 60}\n",
      "Detailed classification report:\n",
      "              precision    recall  f1-score   support\n",
      "\n",
      "      advise       0.25      0.69      0.36       206\n",
      "      effect       0.27      0.70      0.39       422\n",
      "         int       0.07      0.64      0.13        47\n",
      "   mechanism       0.17      0.52      0.25       330\n",
      "        none       0.92      0.59      0.72      5943\n",
      "\n",
      "   micro avg       0.59      0.59      0.59      6948\n",
      "   macro avg       0.33      0.63      0.37      6948\n",
      "weighted avg       0.82      0.59      0.66      6948\n",
      "\n"
     ]
    }
   ],
   "source": [
    "rf_param_grid = [\n",
    "  {'max_depth': [None, 30, 60, 90, 120], 'criterion': ['gini','entropy'], }\n",
    " ]\n",
    "\n",
    "rf = RandomForestClassifier(n_estimators=5,n_jobs=-1,\n",
    "                             class_weight='balanced')\n",
    "\n",
    "tune_model(rf,rf_param_grid,'hyperparams/rf.txt')\n"
   ]
  },
  {
   "cell_type": "code",
   "execution_count": 31,
   "metadata": {},
   "outputs": [
    {
     "name": "stdout",
     "output_type": "stream",
     "text": [
      "Best parameters set found on development set:\n",
      "\n",
      "{'activation': 'tanh', 'alpha': 0.1, 'hidden_layer_sizes': (30, 5), 'learning_rate': 'constant'}\n",
      "Detailed classification report:\n",
      "              precision    recall  f1-score   support\n",
      "\n",
      "      advise       0.44      0.18      0.25       206\n",
      "      effect       0.46      0.17      0.25       422\n",
      "         int       0.00      0.00      0.00        47\n",
      "   mechanism       0.34      0.08      0.13       330\n",
      "        none       0.87      0.97      0.92      5943\n",
      "\n",
      "   micro avg       0.85      0.85      0.85      6948\n",
      "   macro avg       0.42      0.28      0.31      6948\n",
      "weighted avg       0.80      0.85      0.81      6948\n",
      "\n"
     ]
    }
   ],
   "source": [
    "mlp_param_grid = [\n",
    "    {'hidden_layer_sizes': [(15,5), (30,5),(10,10,5), (20,20,5)],\n",
    "     'activation':['identity','logistic', 'tanh','relu'],\n",
    "     'alpha':[0.0001,0.001,0.01,0.1],\n",
    "     'learning_rate':['constant','adaptive']\n",
    "    }\n",
    "]\n",
    "mlp = MLPClassifier()\n",
    "tune_model(mlp, mlp_param_grid,'hyperparams/mlp.txt')"
   ]
  }
 ],
 "metadata": {
  "kernelspec": {
   "display_name": "ahlt",
   "language": "python",
   "name": "ahlt"
  },
  "language_info": {
   "codemirror_mode": {
    "name": "ipython",
    "version": 3
   },
   "file_extension": ".py",
   "mimetype": "text/x-python",
   "name": "python",
   "nbconvert_exporter": "python",
   "pygments_lexer": "ipython3",
   "version": "3.6.7"
  }
 },
 "nbformat": 4,
 "nbformat_minor": 2
}
