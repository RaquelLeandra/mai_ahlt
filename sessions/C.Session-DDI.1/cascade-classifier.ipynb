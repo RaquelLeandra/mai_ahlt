{
 "cells": [
  {
   "cell_type": "code",
   "execution_count": 1,
   "metadata": {},
   "outputs": [],
   "source": [
    "from os import listdir\n",
    "import pandas as pd\n",
    "from sklearn.feature_extraction.text import CountVectorizer\n",
    "from sklearn.ensemble import RandomForestClassifier\n",
    "from sklearn.model_selection import train_test_split\n",
    "from sklearn.model_selection import GridSearchCV\n",
    "from sklearn.neural_network import MLPClassifier\n",
    "from utils import get_entity_dict, smaller_subtree_containing_the_drugs\n",
    "\n",
    "import numpy as np\n",
    "\n",
    "from sklearn.datasets import make_classification\n",
    "\n",
    "from sklearn.metrics import accuracy_score, f1_score, precision_score, recall_score, classification_report, confusion_matrix\n",
    "\n",
    "\n",
    "\n",
    "output_path_name = \"task9.2_raquel_60.txt\"\n",
    "\n",
    "output_path = \"evaluations/\" + output_path_name\n",
    "results_path = output_path.replace('.txt', '_All_scores.log')\n",
    "datadir = '../../data/Test-DDI/DrugBank'\n",
    "training_data = '/home/raquel/Documents/mai/ahlt/data/Train/All'\n",
    "train_df_path = '/home/raquel/Documents/mai/ahlt/data/DF/train.csv'\n",
    "\n",
    "import warnings\n",
    "warnings.filterwarnings('ignore')"
   ]
  },
  {
   "cell_type": "code",
   "execution_count": 2,
   "metadata": {},
   "outputs": [],
   "source": [
    "train_df = pd.read_csv('saved_train_nice.csv', index_col=0)\n",
    "\n",
    "sentences = train_df.sentence_text.values\n",
    "y_train = train_df['relation_type'].values\n",
    "\n",
    "y_binary = ['none' if i == 'none' else 'interaction 'for i in y_train]\n",
    "\n",
    "\n",
    "sentences_train, sentences_test, y_train, y_test = train_test_split(sentences, y_binary, test_size=0.25, random_state=1000,stratify=y_binary)\n",
    "\n",
    "\n",
    "\n",
    "def vectorize_data(sentences_train,sentences_test):  \n",
    "    \n",
    "    vectorizer = CountVectorizer()\n",
    "    vectorizer.fit(sentences_train)\n",
    "    \n",
    "    X_train = vectorizer.transform(sentences_train)\n",
    "    X_test =  vectorizer.transform(sentences_test)\n",
    "    \n",
    "    return X_train, X_test\n",
    "\n",
    "X_train, X_test = vectorize_data(sentences_train,sentences_test)"
   ]
  },
  {
   "cell_type": "code",
   "execution_count": 10,
   "metadata": {
    "scrolled": true
   },
   "outputs": [],
   "source": [
    "from keras.preprocessing.text import Tokenizer\n",
    "from keras.preprocessing.sequence import pad_sequences\n",
    "\n",
    "tokenizer = Tokenizer()\n",
    "tokenizer.fit_on_texts(sentences_train)\n",
    "\n",
    "X_train = tokenizer.texts_to_sequences(sentences_train)\n",
    "X_test = tokenizer.texts_to_sequences(sentences_test)\n",
    "\n",
    "vocab_size = len(tokenizer.word_index) + 1  # Adding 1 because of reserved 0 index\n",
    "max_s = [len(x) for x in X_train]\n",
    "maxlen = np.max(max_s)\n",
    "\n",
    "X_train = pad_sequences(X_train, padding='post', maxlen=maxlen)\n",
    "X_test = pad_sequences(X_test, padding='post', maxlen=maxlen)\n"
   ]
  },
  {
   "cell_type": "code",
   "execution_count": 6,
   "metadata": {},
   "outputs": [],
   "source": [
    "max_s = [len(x) for x in X_train]"
   ]
  },
  {
   "cell_type": "code",
   "execution_count": 8,
   "metadata": {},
   "outputs": [
    {
     "data": {
      "text/plain": [
       "97"
      ]
     },
     "execution_count": 8,
     "metadata": {},
     "output_type": "execute_result"
    }
   ],
   "source": []
  },
  {
   "cell_type": "code",
   "execution_count": 11,
   "metadata": {},
   "outputs": [
    {
     "data": {
      "text/plain": [
       "(20843, 97)"
      ]
     },
     "execution_count": 11,
     "metadata": {},
     "output_type": "execute_result"
    }
   ],
   "source": [
    "np.array(X_train).shape"
   ]
  },
  {
   "cell_type": "code",
   "execution_count": 18,
   "metadata": {},
   "outputs": [],
   "source": []
  },
  {
   "cell_type": "code",
   "execution_count": 16,
   "metadata": {
    "scrolled": true
   },
   "outputs": [
    {
     "name": "stdout",
     "output_type": "stream",
     "text": [
      "_________________________________________________________________\n",
      "Layer (type)                 Output Shape              Param #   \n",
      "=================================================================\n",
      "embedding_6 (Embedding)      (None, 97, 20)            98940     \n",
      "_________________________________________________________________\n",
      "conv1d_6 (Conv1D)            (None, 18, 3)             4803      \n",
      "_________________________________________________________________\n",
      "global_max_pooling1d_4 (Glob (None, 3)                 0         \n",
      "_________________________________________________________________\n",
      "dense_4 (Dense)              (None, 1)                 4         \n",
      "=================================================================\n",
      "Total params: 103,747\n",
      "Trainable params: 103,747\n",
      "Non-trainable params: 0\n",
      "_________________________________________________________________\n",
      "Train on 20843 samples, validate on 6948 samples\n",
      "Epoch 1/4\n",
      "20843/20843 [==============================] - 3s 163us/step - loss: 0.3400 - acc: 0.8606 - val_loss: 0.2751 - val_acc: 0.8716\n",
      "Epoch 2/4\n",
      "20843/20843 [==============================] - 3s 154us/step - loss: 0.2378 - acc: 0.8900 - val_loss: 0.2540 - val_acc: 0.8748\n",
      "Epoch 3/4\n",
      "20843/20843 [==============================] - 3s 159us/step - loss: 0.2006 - acc: 0.9075 - val_loss: 0.2459 - val_acc: 0.8857\n",
      "Epoch 4/4\n",
      "20843/20843 [==============================] - 3s 154us/step - loss: 0.1805 - acc: 0.9157 - val_loss: 0.2482 - val_acc: 0.8856\n",
      "[0.56390565 0.93415058]\n",
      "0.7741319894542452\n",
      "0.7301450847730053\n"
     ]
    }
   ],
   "source": [
    "from keras.layers import LSTM\n",
    "from keras.models import Sequential\n",
    "from keras import layers\n",
    "\n",
    "\n",
    "def baseline_nn():\n",
    "    embed_dim = 200\n",
    "    embed_out = 20\n",
    "    model = Sequential()\n",
    "    # Para hacer cnn le tengo que meter n layer embeding, como está aquí, sino no tira\n",
    "    model.add(layers.Embedding(input_dim = vocab_size, output_dim=embed_out,input_length = X_train.shape[1], dropout = 0.2))\n",
    "    model.add(layers.Conv1D(3, 60, activation='relu'))\n",
    "#     model.add(layers.Conv1D(4, 60, activation='relu'))\n",
    "#     model.add(layers.Conv1D(5, 60, activation='relu'))\n",
    "    model.add(layers.GlobalMaxPool1D())\n",
    "    model.add(layers.Dense(1, activation='sigmoid'))\n",
    "    model.compile(loss='binary_crossentropy', \n",
    "                      optimizer='adam', \n",
    "                      metrics=['accuracy'])\n",
    "    model.summary()\n",
    "    return model\n",
    "\n",
    "\n",
    "def classify_keras(model=baseline_nn()):\n",
    "    from sklearn.preprocessing import LabelBinarizer\n",
    "    encoder = LabelBinarizer()\n",
    "    y_train_encoded = encoder.fit_transform(y_train)\n",
    "    y_test_encoded = encoder.fit_transform(y_test)\n",
    "    model.fit(X_train, y_train_encoded,\n",
    "                    epochs=4,\n",
    "                    verbose=True,\n",
    "                    validation_data=(X_test, y_test_encoded),\n",
    "                    batch_size=10)\n",
    "    y_pred = model.predict(X_test)\n",
    "    y_class = y_pred > 0.5\n",
    "    y_class = y_class.astype(int)\n",
    "    y_labels = [encoder.classes_[l] for l in y_class]\n",
    "    print(f1_score(y_test, y_labels, average=None))\n",
    "    print(precision_score(y_test, y_labels, average=\"macro\"))\n",
    "    print(recall_score(y_test, y_labels, average=\"macro\"))\n",
    "\n",
    "classify_keras()"
   ]
  },
  {
   "cell_type": "code",
   "execution_count": 49,
   "metadata": {},
   "outputs": [],
   "source": []
  },
  {
   "cell_type": "code",
   "execution_count": 51,
   "metadata": {},
   "outputs": [
    {
     "name": "stdout",
     "output_type": "stream",
     "text": [
      "[0.6054321  0.93269312]\n",
      "0.7674267682781615\n",
      "0.7707331590407378\n"
     ]
    }
   ],
   "source": [
    "y_labels = [encoder.classes_[l] for l in y_class]\n",
    "print(f1_score(y_test, y_labels, average=None))\n",
    "print(precision_score(y_test, y_labels, average=\"macro\"))\n",
    "print(recall_score(y_test, y_labels, average=\"macro\"))"
   ]
  },
  {
   "cell_type": "code",
   "execution_count": 22,
   "metadata": {},
   "outputs": [
    {
     "data": {
      "text/plain": [
       "4020"
      ]
     },
     "execution_count": 22,
     "metadata": {},
     "output_type": "execute_result"
    }
   ],
   "source": [
    "(np.array(y_binary)=='interaction').sum()"
   ]
  },
  {
   "cell_type": "code",
   "execution_count": 23,
   "metadata": {},
   "outputs": [
    {
     "data": {
      "text/plain": [
       "<4020x5138 sparse matrix of type '<class 'numpy.int64'>'\n",
       "\twith 77969 stored elements in Compressed Sparse Row format>"
      ]
     },
     "execution_count": 23,
     "metadata": {},
     "output_type": "execute_result"
    }
   ],
   "source": [
    "X_train[np.array(y_binary)=='interaction',:]"
   ]
  },
  {
   "cell_type": "code",
   "execution_count": 6,
   "metadata": {},
   "outputs": [
    {
     "data": {
      "text/plain": [
       "<27791x5138 sparse matrix of type '<class 'numpy.int64'>'\n",
       "\twith 590241 stored elements in Compressed Sparse Row format>"
      ]
     },
     "execution_count": 6,
     "metadata": {},
     "output_type": "execute_result"
    }
   ],
   "source": [
    "X_train"
   ]
  },
  {
   "cell_type": "code",
   "execution_count": null,
   "metadata": {},
   "outputs": [],
   "source": [
    "train_df = pd.read_csv(train_df_path, index_col=0)\n",
    "\n",
    "# for index, row in train_df.iterrows():\n",
    "#     print(train_df.loc[index, 'sentence_text'], train_df.loc[index, ['e1', 'e2']])\n",
    "#     new_sentence = smaller_subtree_containing_the_drugs(train_df.loc[index, 'sentence_text'],\n",
    "#                                                         train_df.loc[index, ['e1', 'e2']])\n",
    "#     train_df.loc[index, 'sentence_text'] = new_sentence\n",
    "\n",
    "\n",
    "sentences = train_df.sentence_text.values\n",
    "y = train_df['relation_type'].values\n",
    "\n",
    "sentences_train, sentences_test, y_train, y_test = train_test_split(sentences, y, test_size=0.25, random_state=1000,stratify=y)\n",
    "\n",
    "\n",
    "def vectorize_data(sentences_train,sentences_test):  \n",
    "    \n",
    "    vectorizer = CountVectorizer()\n",
    "    vectorizer.fit(sentences_train)\n",
    "    \n",
    "    X_train = vectorizer.transform(sentences_train)\n",
    "    X_test =  vectorizer.transform(sentences_test)\n",
    "    \n",
    "    return X_train, X_test\n",
    "\n",
    "X_train, X_test = vectorize_data(sentences_train,sentences_test)"
   ]
  }
 ],
 "metadata": {
  "kernelspec": {
   "display_name": "ahlt",
   "language": "python",
   "name": "ahlt"
  },
  "language_info": {
   "codemirror_mode": {
    "name": "ipython",
    "version": 3
   },
   "file_extension": ".py",
   "mimetype": "text/x-python",
   "name": "python",
   "nbconvert_exporter": "python",
   "pygments_lexer": "ipython3",
   "version": "3.6.7"
  },
  "toc": {
   "base_numbering": 1,
   "nav_menu": {},
   "number_sections": true,
   "sideBar": true,
   "skip_h1_title": false,
   "title_cell": "Table of Contents",
   "title_sidebar": "Contents",
   "toc_cell": false,
   "toc_position": {},
   "toc_section_display": true,
   "toc_window_display": false
  }
 },
 "nbformat": 4,
 "nbformat_minor": 2
}
