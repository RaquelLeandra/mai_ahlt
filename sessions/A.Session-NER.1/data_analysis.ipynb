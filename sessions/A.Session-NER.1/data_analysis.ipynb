{
 "cells": [
  {
   "cell_type": "code",
   "execution_count": 170,
   "metadata": {},
   "outputs": [],
   "source": [
    "import sys\n",
    "import os\n",
    "import numpy as np\n",
    "import pandas as pd\n",
    "import seaborn as sns\n",
    "from matplotlib import pyplot as plt\n",
    "sns.set()\n",
    "from xml.dom.minidom import parse\n",
    "from nltk.tokenize import word_tokenize"
   ]
  },
  {
   "cell_type": "code",
   "execution_count": 146,
   "metadata": {},
   "outputs": [],
   "source": [
    "DATA_PATH = '../../data/Train/DrugBank'"
   ]
  },
  {
   "cell_type": "code",
   "execution_count": 147,
   "metadata": {},
   "outputs": [
    {
     "name": "stdout",
     "output_type": "stream",
     "text": [
      "Drug shape: (12929, 2)\n",
      "Broken files: 28\n"
     ]
    }
   ],
   "source": [
    "def parse_drugs_from_file(file_path):\n",
    "    tree = parse(file_path)\n",
    "    sentences = tree.getElementsByTagName(\"sentence\")\n",
    "    parsed_drugs = []\n",
    "    for s in sentences:\n",
    "        entities = s.getElementsByTagName('entity')\n",
    "        for entity in entities: \n",
    "            drug = entity.attributes['text'].value\n",
    "            drug_type =  entity.attributes['type'].value\n",
    "            parsed_drugs.append((drug,drug_type))\n",
    "    parsed_drugs = np.array(parsed_drugs)\n",
    "    return parsed_drugs\n",
    "broken_files = 0\n",
    "drugs =  np.empty((0,2), int)\n",
    "for f in os.listdir(DATA_PATH):\n",
    "    parsed_drugs = parse_drugs_from_file(os.path.join(DATA_PATH,f))\n",
    "    try: \n",
    "        drugs = np.append(drugs,parsed_drugs, axis=0)\n",
    "    except: \n",
    "        broken_files+=1\n",
    "#         print('No drugs in file {}'.format(f))\n",
    "\n",
    "print('Drug shape: {}\\nBroken files: {}'.format(drugs.shape,broken_files))"
   ]
  },
  {
   "cell_type": "code",
   "execution_count": 148,
   "metadata": {},
   "outputs": [
    {
     "data": {
      "text/html": [
       "<div>\n",
       "<style scoped>\n",
       "    .dataframe tbody tr th:only-of-type {\n",
       "        vertical-align: middle;\n",
       "    }\n",
       "\n",
       "    .dataframe tbody tr th {\n",
       "        vertical-align: top;\n",
       "    }\n",
       "\n",
       "    .dataframe thead th {\n",
       "        text-align: right;\n",
       "    }\n",
       "</style>\n",
       "<table border=\"1\" class=\"dataframe\">\n",
       "  <thead>\n",
       "    <tr style=\"text-align: right;\">\n",
       "      <th></th>\n",
       "      <th>drug</th>\n",
       "      <th>type</th>\n",
       "    </tr>\n",
       "  </thead>\n",
       "  <tbody>\n",
       "    <tr>\n",
       "      <th>0</th>\n",
       "      <td>anticoagulants</td>\n",
       "      <td>group</td>\n",
       "    </tr>\n",
       "    <tr>\n",
       "      <th>1</th>\n",
       "      <td>blood thinner</td>\n",
       "      <td>group</td>\n",
       "    </tr>\n",
       "    <tr>\n",
       "      <th>2</th>\n",
       "      <td>carbamazepine</td>\n",
       "      <td>drug</td>\n",
       "    </tr>\n",
       "    <tr>\n",
       "      <th>3</th>\n",
       "      <td>corticotropin</td>\n",
       "      <td>drug</td>\n",
       "    </tr>\n",
       "    <tr>\n",
       "      <th>4</th>\n",
       "      <td>barbiturates</td>\n",
       "      <td>group</td>\n",
       "    </tr>\n",
       "  </tbody>\n",
       "</table>\n",
       "</div>"
      ],
      "text/plain": [
       "             drug   type\n",
       "0  anticoagulants  group\n",
       "1   blood thinner  group\n",
       "2   carbamazepine   drug\n",
       "3   corticotropin   drug\n",
       "4    barbiturates  group"
      ]
     },
     "execution_count": 148,
     "metadata": {},
     "output_type": "execute_result"
    }
   ],
   "source": [
    "drugs_df = pd.DataFrame(drugs,columns=['drug','type'])\n",
    "drugs_df.head()"
   ]
  },
  {
   "cell_type": "code",
   "execution_count": 149,
   "metadata": {},
   "outputs": [
    {
     "data": {
      "text/plain": [
       "<matplotlib.axes._subplots.AxesSubplot at 0x7f29e64955c0>"
      ]
     },
     "execution_count": 149,
     "metadata": {},
     "output_type": "execute_result"
    },
    {
     "data": {
      "image/png": "[encoded data removed]",
      "text/plain": [
       "<Figure size 432x288 with 1 Axes>"
      ]
     },
     "metadata": {},
     "output_type": "display_data"
    }
   ],
   "source": [
    "sns.countplot(drugs_df.type)"
   ]
  },
  {
   "cell_type": "code",
   "execution_count": 150,
   "metadata": {},
   "outputs": [],
   "source": [
    "def extract_features(drugs_df):\n",
    "    drugs_df['prefix'] = drugs_df['drug'].str[:4]\n",
    "    drugs_df['sufix'] = drugs_df['drug'].str[-5:]\n",
    "    drugs_df['n_words'] = drugs_df['drug'].str.split(' ').apply(len)\n",
    "    drugs_df['capitals'] = drugs_df['drug'].str.isupper()\n",
    "    return drugs_df\n",
    "\n",
    "drugs_df = extract_features(drugs_df)"
   ]
  },
  {
   "cell_type": "code",
   "execution_count": 151,
   "metadata": {
    "scrolled": false
   },
   "outputs": [
    {
     "data": {
      "text/html": [
       "<div>\n",
       "<style scoped>\n",
       "    .dataframe tbody tr th:only-of-type {\n",
       "        vertical-align: middle;\n",
       "    }\n",
       "\n",
       "    .dataframe tbody tr th {\n",
       "        vertical-align: top;\n",
       "    }\n",
       "\n",
       "    .dataframe thead th {\n",
       "        text-align: right;\n",
       "    }\n",
       "</style>\n",
       "<table border=\"1\" class=\"dataframe\">\n",
       "  <thead>\n",
       "    <tr style=\"text-align: right;\">\n",
       "      <th></th>\n",
       "      <th>drug</th>\n",
       "      <th>type</th>\n",
       "      <th>prefix</th>\n",
       "      <th>sufix</th>\n",
       "      <th>n_words</th>\n",
       "      <th>capitals</th>\n",
       "    </tr>\n",
       "  </thead>\n",
       "  <tbody>\n",
       "    <tr>\n",
       "      <th>0</th>\n",
       "      <td>anticoagulants</td>\n",
       "      <td>group</td>\n",
       "      <td>anti</td>\n",
       "      <td>lants</td>\n",
       "      <td>1</td>\n",
       "      <td>False</td>\n",
       "    </tr>\n",
       "    <tr>\n",
       "      <th>1</th>\n",
       "      <td>blood thinner</td>\n",
       "      <td>group</td>\n",
       "      <td>bloo</td>\n",
       "      <td>inner</td>\n",
       "      <td>2</td>\n",
       "      <td>False</td>\n",
       "    </tr>\n",
       "    <tr>\n",
       "      <th>2</th>\n",
       "      <td>carbamazepine</td>\n",
       "      <td>drug</td>\n",
       "      <td>carb</td>\n",
       "      <td>epine</td>\n",
       "      <td>1</td>\n",
       "      <td>False</td>\n",
       "    </tr>\n",
       "    <tr>\n",
       "      <th>3</th>\n",
       "      <td>corticotropin</td>\n",
       "      <td>drug</td>\n",
       "      <td>cort</td>\n",
       "      <td>ropin</td>\n",
       "      <td>1</td>\n",
       "      <td>False</td>\n",
       "    </tr>\n",
       "    <tr>\n",
       "      <th>4</th>\n",
       "      <td>barbiturates</td>\n",
       "      <td>group</td>\n",
       "      <td>barb</td>\n",
       "      <td>rates</td>\n",
       "      <td>1</td>\n",
       "      <td>False</td>\n",
       "    </tr>\n",
       "  </tbody>\n",
       "</table>\n",
       "</div>"
      ],
      "text/plain": [
       "             drug   type prefix  sufix  n_words  capitals\n",
       "0  anticoagulants  group   anti  lants        1     False\n",
       "1   blood thinner  group   bloo  inner        2     False\n",
       "2   carbamazepine   drug   carb  epine        1     False\n",
       "3   corticotropin   drug   cort  ropin        1     False\n",
       "4    barbiturates  group   barb  rates        1     False"
      ]
     },
     "execution_count": 151,
     "metadata": {},
     "output_type": "execute_result"
    }
   ],
   "source": [
    "drugs_df.head()"
   ]
  },
  {
   "cell_type": "markdown",
   "metadata": {},
   "source": [
    "## Only drugs"
   ]
  },
  {
   "cell_type": "code",
   "execution_count": 187,
   "metadata": {
    "scrolled": true
   },
   "outputs": [
    {
     "data": {
      "text/html": [
       "<div>\n",
       "<style scoped>\n",
       "    .dataframe tbody tr th:only-of-type {\n",
       "        vertical-align: middle;\n",
       "    }\n",
       "\n",
       "    .dataframe tbody tr th {\n",
       "        vertical-align: top;\n",
       "    }\n",
       "\n",
       "    .dataframe thead th {\n",
       "        text-align: right;\n",
       "    }\n",
       "</style>\n",
       "<table border=\"1\" class=\"dataframe\">\n",
       "  <thead>\n",
       "    <tr style=\"text-align: right;\">\n",
       "      <th></th>\n",
       "      <th>drug</th>\n",
       "      <th>type</th>\n",
       "      <th>prefix</th>\n",
       "      <th>sufix</th>\n",
       "      <th>n_words</th>\n",
       "      <th>capitals</th>\n",
       "    </tr>\n",
       "  </thead>\n",
       "  <tbody>\n",
       "    <tr>\n",
       "      <th>2</th>\n",
       "      <td>carbamazepine</td>\n",
       "      <td>drug</td>\n",
       "      <td>carb</td>\n",
       "      <td>epine</td>\n",
       "      <td>1</td>\n",
       "      <td>False</td>\n",
       "    </tr>\n",
       "    <tr>\n",
       "      <th>3</th>\n",
       "      <td>corticotropin</td>\n",
       "      <td>drug</td>\n",
       "      <td>cort</td>\n",
       "      <td>ropin</td>\n",
       "      <td>1</td>\n",
       "      <td>False</td>\n",
       "    </tr>\n",
       "    <tr>\n",
       "      <th>7</th>\n",
       "      <td>divalproex sodium</td>\n",
       "      <td>drug</td>\n",
       "      <td>diva</td>\n",
       "      <td>odium</td>\n",
       "      <td>2</td>\n",
       "      <td>False</td>\n",
       "    </tr>\n",
       "    <tr>\n",
       "      <th>8</th>\n",
       "      <td>valproic acid</td>\n",
       "      <td>drug</td>\n",
       "      <td>valp</td>\n",
       "      <td>acid</td>\n",
       "      <td>2</td>\n",
       "      <td>False</td>\n",
       "    </tr>\n",
       "    <tr>\n",
       "      <th>14</th>\n",
       "      <td>escitalopram</td>\n",
       "      <td>drug</td>\n",
       "      <td>esci</td>\n",
       "      <td>opram</td>\n",
       "      <td>1</td>\n",
       "      <td>False</td>\n",
       "    </tr>\n",
       "  </tbody>\n",
       "</table>\n",
       "</div>"
      ],
      "text/plain": [
       "                 drug  type prefix  sufix  n_words  capitals\n",
       "2       carbamazepine  drug   carb  epine        1     False\n",
       "3       corticotropin  drug   cort  ropin        1     False\n",
       "7   divalproex sodium  drug   diva  odium        2     False\n",
       "8       valproic acid  drug   valp   acid        2     False\n",
       "14       escitalopram  drug   esci  opram        1     False"
      ]
     },
     "execution_count": 187,
     "metadata": {},
     "output_type": "execute_result"
    }
   ],
   "source": [
    "only_drugs = drugs_df.loc[drugs_df['type'] == 'drug']\n",
    "only_drugs.head()"
   ]
  },
  {
   "cell_type": "code",
   "execution_count": 177,
   "metadata": {},
   "outputs": [],
   "source": [
    "def restricted_countplot(df,n):\n",
    "    plt.figure(figsize=(10,6))\n",
    "    names = list(df.value_counts()[:n].index)\n",
    "    values = df.value_counts()[:n].values\n",
    "    sns.barplot(names,values)"
   ]
  },
  {
   "cell_type": "code",
   "execution_count": 181,
   "metadata": {
    "scrolled": false
   },
   "outputs": [
    {
     "data": {
      "text/plain": [
       "Text(0.5, 1.0, 'Suffixes')"
      ]
     },
     "execution_count": 181,
     "metadata": {},
     "output_type": "execute_result"
    },
    {
     "data": {
      "image/png": "[encoded data removed]",
      "text/plain": [
       "<Figure size 720x432 with 1 Axes>"
      ]
     },
     "metadata": {},
     "output_type": "display_data"
    }
   ],
   "source": [
    "restricted_countplot(only_drugs['sufix'],15)\n",
    "plt.title('Suffixes')"
   ]
  },
  {
   "cell_type": "code",
   "execution_count": 182,
   "metadata": {},
   "outputs": [
    {
     "data": {
      "text/plain": [
       "Text(0.5, 1.0, 'Prexixes')"
      ]
     },
     "execution_count": 182,
     "metadata": {},
     "output_type": "execute_result"
    },
    {
     "data": {
      "image/png": "[encoded data removed]",
      "text/plain": [
       "<Figure size 720x432 with 1 Axes>"
      ]
     },
     "metadata": {},
     "output_type": "display_data"
    }
   ],
   "source": [
    "restricted_countplot(only_drugs['prefix'],15)\n",
    "plt.title('Prexixes')"
   ]
  },
  {
   "cell_type": "code",
   "execution_count": 183,
   "metadata": {},
   "outputs": [
    {
     "data": {
      "text/plain": [
       "<matplotlib.axes._subplots.AxesSubplot at 0x7f29e5f57438>"
      ]
     },
     "execution_count": 183,
     "metadata": {},
     "output_type": "execute_result"
    },
    {
     "data": {
      "image/png": "[encoded data removed]",
      "text/plain": [
       "<Figure size 432x288 with 1 Axes>"
      ]
     },
     "metadata": {},
     "output_type": "display_data"
    }
   ],
   "source": [
    "sns.countplot(only_drugs['n_words'])"
   ]
  },
  {
   "cell_type": "code",
   "execution_count": 184,
   "metadata": {},
   "outputs": [
    {
     "data": {
      "text/plain": [
       "<matplotlib.axes._subplots.AxesSubplot at 0x7f29e465b5f8>"
      ]
     },
     "execution_count": 184,
     "metadata": {},
     "output_type": "execute_result"
    },
    {
     "data": {
      "image/png": "[encoded data removed]",
      "text/plain": [
       "<Figure size 432x288 with 1 Axes>"
      ]
     },
     "metadata": {},
     "output_type": "display_data"
    }
   ],
   "source": [
    "sns.countplot(only_drugs['capitals'])"
   ]
  },
  {
   "cell_type": "markdown",
   "metadata": {},
   "source": [
    "## Brands"
   ]
  },
  {
   "cell_type": "code",
   "execution_count": 160,
   "metadata": {},
   "outputs": [
    {
     "data": {
      "text/html": [
       "<div>\n",
       "<style scoped>\n",
       "    .dataframe tbody tr th:only-of-type {\n",
       "        vertical-align: middle;\n",
       "    }\n",
       "\n",
       "    .dataframe tbody tr th {\n",
       "        vertical-align: top;\n",
       "    }\n",
       "\n",
       "    .dataframe thead th {\n",
       "        text-align: right;\n",
       "    }\n",
       "</style>\n",
       "<table border=\"1\" class=\"dataframe\">\n",
       "  <thead>\n",
       "    <tr style=\"text-align: right;\">\n",
       "      <th></th>\n",
       "      <th>drug</th>\n",
       "      <th>type</th>\n",
       "      <th>prefix</th>\n",
       "      <th>sufix</th>\n",
       "      <th>n_words</th>\n",
       "      <th>capitals</th>\n",
       "    </tr>\n",
       "  </thead>\n",
       "  <tbody>\n",
       "    <tr>\n",
       "      <th>16</th>\n",
       "      <td>LEXAPRO</td>\n",
       "      <td>brand</td>\n",
       "      <td>LEXA</td>\n",
       "      <td>XAPRO</td>\n",
       "      <td>1</td>\n",
       "      <td>True</td>\n",
       "    </tr>\n",
       "    <tr>\n",
       "      <th>20</th>\n",
       "      <td>LEXAPRO</td>\n",
       "      <td>brand</td>\n",
       "      <td>LEXA</td>\n",
       "      <td>XAPRO</td>\n",
       "      <td>1</td>\n",
       "      <td>True</td>\n",
       "    </tr>\n",
       "    <tr>\n",
       "      <th>24</th>\n",
       "      <td>Aspirin</td>\n",
       "      <td>brand</td>\n",
       "      <td>Aspi</td>\n",
       "      <td>pirin</td>\n",
       "      <td>1</td>\n",
       "      <td>False</td>\n",
       "    </tr>\n",
       "    <tr>\n",
       "      <th>28</th>\n",
       "      <td>aspirin</td>\n",
       "      <td>brand</td>\n",
       "      <td>aspi</td>\n",
       "      <td>pirin</td>\n",
       "      <td>1</td>\n",
       "      <td>False</td>\n",
       "    </tr>\n",
       "    <tr>\n",
       "      <th>29</th>\n",
       "      <td>LEXAPRO</td>\n",
       "      <td>brand</td>\n",
       "      <td>LEXA</td>\n",
       "      <td>XAPRO</td>\n",
       "      <td>1</td>\n",
       "      <td>True</td>\n",
       "    </tr>\n",
       "  </tbody>\n",
       "</table>\n",
       "</div>"
      ],
      "text/plain": [
       "       drug   type prefix  sufix  n_words  capitals\n",
       "16  LEXAPRO  brand   LEXA  XAPRO        1      True\n",
       "20  LEXAPRO  brand   LEXA  XAPRO        1      True\n",
       "24  Aspirin  brand   Aspi  pirin        1     False\n",
       "28  aspirin  brand   aspi  pirin        1     False\n",
       "29  LEXAPRO  brand   LEXA  XAPRO        1      True"
      ]
     },
     "execution_count": 160,
     "metadata": {},
     "output_type": "execute_result"
    }
   ],
   "source": [
    "only_brands = drugs_df.loc[drugs_df['type'] == 'brand']\n",
    "only_brands.head()"
   ]
  },
  {
   "cell_type": "code",
   "execution_count": 185,
   "metadata": {},
   "outputs": [
    {
     "data": {
      "text/plain": [
       "<matplotlib.axes._subplots.AxesSubplot at 0x7f29e46704e0>"
      ]
     },
     "execution_count": 185,
     "metadata": {},
     "output_type": "execute_result"
    },
    {
     "data": {
      "image/png": "[encoded data removed]",
      "text/plain": [
       "<Figure size 432x288 with 1 Axes>"
      ]
     },
     "metadata": {},
     "output_type": "display_data"
    }
   ],
   "source": [
    "sns.countplot(only_brands['capitals'])"
   ]
  }
 ],
 "metadata": {
  "kernelspec": {
   "display_name": "Python 3",
   "language": "python",
   "name": "python3"
  },
  "language_info": {
   "codemirror_mode": {
    "name": "ipython",
    "version": 3
   },
   "file_extension": ".py",
   "mimetype": "text/x-python",
   "name": "python",
   "nbconvert_exporter": "python",
   "pygments_lexer": "ipython3",
   "version": "3.7.1"
  },
  "toc": {
   "base_numbering": 1,
   "nav_menu": {},
   "number_sections": true,
   "sideBar": true,
   "skip_h1_title": false,
   "title_cell": "Table of Contents",
   "title_sidebar": "Contents",
   "toc_cell": false,
   "toc_position": {},
   "toc_section_display": true,
   "toc_window_display": false
  }
 },
 "nbformat": 4,
 "nbformat_minor": 2
}
